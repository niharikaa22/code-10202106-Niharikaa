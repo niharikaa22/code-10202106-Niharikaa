{
 "cells": [
  {
   "cell_type": "code",
   "execution_count": 192,
   "metadata": {},
   "outputs": [],
   "source": [
    "a = [{\"Gender\": \"Male\", \"HeightCm\": 171, \"WeightKg\": 96 }, { \"Gender\": \"Male\", \"HeightCm\": 161, \"WeightKg\":\n",
    "85 }, { \"Gender\": \"Male\", \"HeightCm\": 180, \"WeightKg\": 77 }, { \"Gender\": \"Female\", \"HeightCm\": 166,\n",
    "\"WeightKg\": 62}, {\"Gender\": \"Female\", \"HeightCm\": 150, \"WeightKg\": 70}, {\"Gender\": \"Female\",\n",
    "\"HeightCm\": 167, \"WeightKg\": 82}]\n",
    "\n",
    "import pandas as pd\n",
    "import numpy as np\n",
    "\n",
    "data = {\"Health Risk\":[],\n",
    "        \"BMI Category\":[],\n",
    "        \"BMI\":[]}\n",
    "for i in range(0,len(a)):\n",
    "    bmi = round((a[i][\"WeightKg\"] / (a[i][\"HeightCm\"]/100)**2),2)\n",
    "    if bmi <= 18.4:\n",
    "        data[\"Health Risk\"].append(\"Malnutrition risk\")\n",
    "        data[\"BMI Category\"].append(\"Under weight\")\n",
    "        data[\"BMI\"].append(bmi)\n",
    "    if 18.5 >= bmi <= 24.9:\n",
    "        data[\"Health Risk\"].append(\"Low Risk\")\n",
    "        data[\"BMI Category\"].append(\"Normal weight\")\n",
    "        data[\"BMI\"].append(bmi)\n",
    "    elif 25 >= bmi <= 29.9:\n",
    "        data[\"Health Risk\"].append(\"Enhanced risk\")\n",
    "        data[\"BMI Category\"].append(\"Over weight\")\n",
    "        data[\"BMI\"].append(bmi)\n",
    "    elif 30 >= bmi <= 34.9:\n",
    "        data[\"Health Risk\"].append(\"Medium risk\")\n",
    "        data[\"BMI Category\"].append(\"Moderately obese\")\n",
    "        data[\"BMI\"].append(bmi)\n",
    "    elif 35 >= bmi <= 39.9:\n",
    "        data[\"Health Risk\"].append(\"High risk\")\n",
    "        data[\"BMI Category\"].append(\"severely obese\")\n",
    "        data[\"BMI\"].append(bmi)\n",
    "    else:\n",
    "        data[\"Health Risk\"].append(\"Very High risk\")\n",
    "        data[\"BMI Category\"].append(\"Very severely obese\")\n",
    "        data[\"BMI\"].append(bmi)\n",
    "   \n",
    "    "
   ]
  },
  {
   "cell_type": "code",
   "execution_count": 193,
   "metadata": {},
   "outputs": [
    {
     "data": {
      "text/plain": [
       "{'Health Risk': ['High risk',\n",
       "  'High risk',\n",
       "  'Enhanced risk',\n",
       "  'Enhanced risk',\n",
       "  'High risk',\n",
       "  'Medium risk'],\n",
       " 'BMI Category': ['severely obese',\n",
       "  'severely obese',\n",
       "  'Over weight',\n",
       "  'Over weight',\n",
       "  'severely obese',\n",
       "  'Moderately obese'],\n",
       " 'BMI': [32.83, 32.79, 23.77, 22.5, 31.11, 29.4]}"
      ]
     },
     "execution_count": 193,
     "metadata": {},
     "output_type": "execute_result"
    }
   ],
   "source": [
    "data"
   ]
  },
  {
   "cell_type": "code",
   "execution_count": 195,
   "metadata": {},
   "outputs": [
    {
     "data": {
      "text/html": [
       "<div>\n",
       "<style scoped>\n",
       "    .dataframe tbody tr th:only-of-type {\n",
       "        vertical-align: middle;\n",
       "    }\n",
       "\n",
       "    .dataframe tbody tr th {\n",
       "        vertical-align: top;\n",
       "    }\n",
       "\n",
       "    .dataframe thead th {\n",
       "        text-align: right;\n",
       "    }\n",
       "</style>\n",
       "<table border=\"1\" class=\"dataframe\">\n",
       "  <thead>\n",
       "    <tr style=\"text-align: right;\">\n",
       "      <th></th>\n",
       "      <th>Health Risk</th>\n",
       "      <th>BMI Category</th>\n",
       "      <th>BMI</th>\n",
       "    </tr>\n",
       "  </thead>\n",
       "  <tbody>\n",
       "    <tr>\n",
       "      <th>0</th>\n",
       "      <td>High risk</td>\n",
       "      <td>severely obese</td>\n",
       "      <td>32.83</td>\n",
       "    </tr>\n",
       "    <tr>\n",
       "      <th>1</th>\n",
       "      <td>High risk</td>\n",
       "      <td>severely obese</td>\n",
       "      <td>32.79</td>\n",
       "    </tr>\n",
       "    <tr>\n",
       "      <th>2</th>\n",
       "      <td>Enhanced risk</td>\n",
       "      <td>Over weight</td>\n",
       "      <td>23.77</td>\n",
       "    </tr>\n",
       "    <tr>\n",
       "      <th>3</th>\n",
       "      <td>Enhanced risk</td>\n",
       "      <td>Over weight</td>\n",
       "      <td>22.50</td>\n",
       "    </tr>\n",
       "    <tr>\n",
       "      <th>4</th>\n",
       "      <td>High risk</td>\n",
       "      <td>severely obese</td>\n",
       "      <td>31.11</td>\n",
       "    </tr>\n",
       "    <tr>\n",
       "      <th>5</th>\n",
       "      <td>Medium risk</td>\n",
       "      <td>Moderately obese</td>\n",
       "      <td>29.40</td>\n",
       "    </tr>\n",
       "  </tbody>\n",
       "</table>\n",
       "</div>"
      ],
      "text/plain": [
       "     Health Risk      BMI Category    BMI\n",
       "0      High risk    severely obese  32.83\n",
       "1      High risk    severely obese  32.79\n",
       "2  Enhanced risk       Over weight  23.77\n",
       "3  Enhanced risk       Over weight  22.50\n",
       "4      High risk    severely obese  31.11\n",
       "5    Medium risk  Moderately obese  29.40"
      ]
     },
     "execution_count": 195,
     "metadata": {},
     "output_type": "execute_result"
    }
   ],
   "source": [
    "d = pd.DataFrame(data)\n",
    "d"
   ]
  },
  {
   "cell_type": "code",
   "execution_count": null,
   "metadata": {},
   "outputs": [],
   "source": []
  },
  {
   "cell_type": "code",
   "execution_count": null,
   "metadata": {},
   "outputs": [],
   "source": []
  },
  {
   "cell_type": "code",
   "execution_count": null,
   "metadata": {},
   "outputs": [],
   "source": []
  }
 ],
 "metadata": {
  "kernelspec": {
   "display_name": "Python 3",
   "language": "python",
   "name": "python3"
  },
  "language_info": {
   "codemirror_mode": {
    "name": "ipython",
    "version": 3
   },
   "file_extension": ".py",
   "mimetype": "text/x-python",
   "name": "python",
   "nbconvert_exporter": "python",
   "pygments_lexer": "ipython3",
   "version": "3.7.3"
  }
 },
 "nbformat": 4,
 "nbformat_minor": 2
}
